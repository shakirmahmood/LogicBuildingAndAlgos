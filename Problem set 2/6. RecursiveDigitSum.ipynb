{
 "cells": [
  {
   "cell_type": "code",
   "execution_count": 20,
   "metadata": {},
   "outputs": [
    {
     "name": "stdout",
     "output_type": "stream",
     "text": [
      "Enter any integer: 123\n",
      "Enter times to concatenation: 3\n",
      "18\n",
      "9\n"
     ]
    }
   ],
   "source": [
    "def superDigit(p):\n",
    "    s = 0\n",
    "    for x in p:\n",
    "        s = s + int(x)\n",
    "    print(s)\n",
    "    if len(str(s)) == 1:\n",
    "        return s\n",
    "    superDigit(str(s))\n",
    "\n",
    "    \n",
    "    \n",
    "    \n",
    "n = input(\"Enter any integer: \")\n",
    "k = int(input(\"Enter times to concatenation: \"))\n",
    "\n",
    "p = n*k\n",
    "superDigit(p)\n",
    "\n"
   ]
  },
  {
   "cell_type": "code",
   "execution_count": null,
   "metadata": {},
   "outputs": [],
   "source": []
  },
  {
   "cell_type": "code",
   "execution_count": null,
   "metadata": {},
   "outputs": [],
   "source": []
  }
 ],
 "metadata": {
  "kernelspec": {
   "display_name": "Python 3",
   "language": "python",
   "name": "python3"
  },
  "language_info": {
   "codemirror_mode": {
    "name": "ipython",
    "version": 3
   },
   "file_extension": ".py",
   "mimetype": "text/x-python",
   "name": "python",
   "nbconvert_exporter": "python",
   "pygments_lexer": "ipython3",
   "version": "3.7.1"
  }
 },
 "nbformat": 4,
 "nbformat_minor": 2
}
