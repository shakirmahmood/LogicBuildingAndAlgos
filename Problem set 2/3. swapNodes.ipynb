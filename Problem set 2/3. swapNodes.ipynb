{
 "cells": [
  {
   "cell_type": "code",
   "execution_count": 2,
   "metadata": {},
   "outputs": [
    {
     "name": "stdout",
     "output_type": "stream",
     "text": [
      "2\n",
      "6\n",
      "9\n",
      "4\n",
      "1\n",
      "3\n",
      "7\n",
      "5\n",
      "10\n",
      "8\n",
      "11\n",
      "\n",
      "\n"
     ]
    }
   ],
   "source": [
    "def in_order(self, h, k):\n",
    "    if self == None:\n",
    "        h -= 1\n",
    "        return\n",
    "    #print(h, k)\n",
    "    if h + 1 == k:   #to swap the child nodes\n",
    "        #print(\"Yes\")\n",
    "        self = swapNodes(self)\n",
    "    h += 1\n",
    "    in_order(self.left,h,k)\n",
    "    print(self.data)\n",
    "    in_order(self.right,h,k)\n",
    "\n",
    "def swapNodes(self):\n",
    "    temp = self.left\n",
    "    self.left = self.right\n",
    "    self.right = temp\n",
    "    return self\n",
    "    \n",
    "class Node:\n",
    "    def __init__(self, Data):\n",
    "        self.left = None\n",
    "        self.right = None\n",
    "        self.data = Data\n",
    "           \n",
    "root = Node(1)\n",
    "\n",
    "#Test Case 1\n",
    "'''node2 = root.left = Node(2)\n",
    "node3 = root.right = Node(3)\n",
    "node4 = node2.right = Node(4)\n",
    "node5 = node3.right = Node(5)\n",
    "'''\n",
    "\n",
    "#Test Case 2\n",
    "node2 = root.left = Node(2)\n",
    "node3 = root.right = Node(3)\n",
    "node4 = node2.left = Node(4)\n",
    "node5 = node3.left = Node(5)\n",
    "node6 = node4.left = Node(6)\n",
    "node7 = node5.left = Node(7)\n",
    "node8 = node5.right = Node(8)\n",
    "node9 = node6.right = Node(9)\n",
    "node10 = node8.left = Node(10)\n",
    "node11 = node8.right = Node(11)\n",
    "\n",
    "in_order(root, 0 ,2)\n",
    "print(\"\\n\")\n",
    "\n",
    "#root = swapNodes(root)\n",
    "\n",
    "#in_order(root)\n",
    "#print(\"\\n\")\n",
    "\n",
    "\n",
    "\n"
   ]
  },
  {
   "cell_type": "code",
   "execution_count": null,
   "metadata": {},
   "outputs": [],
   "source": []
  }
 ],
 "metadata": {
  "kernelspec": {
   "display_name": "Python 3",
   "language": "python",
   "name": "python3"
  },
  "language_info": {
   "codemirror_mode": {
    "name": "ipython",
    "version": 3
   },
   "file_extension": ".py",
   "mimetype": "text/x-python",
   "name": "python",
   "nbconvert_exporter": "python",
   "pygments_lexer": "ipython3",
   "version": "3.7.1"
  }
 },
 "nbformat": 4,
 "nbformat_minor": 2
}
