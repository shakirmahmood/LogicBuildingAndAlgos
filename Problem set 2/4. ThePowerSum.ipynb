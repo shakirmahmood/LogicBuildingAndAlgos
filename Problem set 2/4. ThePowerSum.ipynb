{
 "cells": [
  {
   "cell_type": "code",
   "execution_count": 19,
   "metadata": {},
   "outputs": [
    {
     "name": "stdout",
     "output_type": "stream",
     "text": [
      "Enter any integer: 50\n",
      "Enter any power: 2\n",
      "3\n"
     ]
    }
   ],
   "source": [
    "n = int(input(\"Enter any integer: \"))\n",
    "x = int(input(\"Enter any power: \"))\n",
    "\n",
    "l = []\n",
    "s = 0\n",
    "count = 0\n",
    "sq = int(n**(1/x))\n",
    "if sq**x == n:\n",
    "    q = sq - 1\n",
    "    count += 1\n",
    "else:\n",
    "    q = sq\n",
    "while sq > 0:\n",
    "    temp = q\n",
    "    s = 0\n",
    "    while temp > 0:\n",
    "        if s + temp**x < n:\n",
    "            l.append(temp)\n",
    "            s = s + temp**x\n",
    "        elif s + temp**x == n:\n",
    "            count += 1\n",
    "            break\n",
    "        else:\n",
    "            pass\n",
    "        temp -= 1\n",
    "    if l == []:\n",
    "        q = 0\n",
    "    else:\n",
    "        q = l[0]-1\n",
    "        l = []\n",
    "    sq -= 1\n",
    "    \n",
    "print(count)\n",
    "            "
   ]
  }
 ],
 "metadata": {
  "kernelspec": {
   "display_name": "Python 3",
   "language": "python",
   "name": "python3"
  },
  "language_info": {
   "codemirror_mode": {
    "name": "ipython",
    "version": 3
   },
   "file_extension": ".py",
   "mimetype": "text/x-python",
   "name": "python",
   "nbconvert_exporter": "python",
   "pygments_lexer": "ipython3",
   "version": "3.7.1"
  }
 },
 "nbformat": 4,
 "nbformat_minor": 2
}
