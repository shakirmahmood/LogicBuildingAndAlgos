{
 "cells": [
  {
   "cell_type": "code",
   "execution_count": 47,
   "metadata": {},
   "outputs": [
    {
     "name": "stdout",
     "output_type": "stream",
     "text": [
      "Enter a string: kkkk\n",
      "10\n"
     ]
    }
   ],
   "source": [
    "import math as m\n",
    "s = input(\"Enter a string: \")\n",
    "\n",
    "count = 0\n",
    "for k in range(len(s)-1):\n",
    "    for i in range(len(s)-k):\n",
    "        j = i + 1\n",
    "        while j < len(s)-k:\n",
    "            if ''.join(sorted(s[i:i+k+1])) == ''.join(sorted(s[j:j+k+1])):\n",
    "                count += 1\n",
    "                #print(\"yes\")\n",
    "            j += 1\n",
    "\n",
    "print(count)"
   ]
  },
  {
   "cell_type": "code",
   "execution_count": 42,
   "metadata": {},
   "outputs": [
    {
     "name": "stdout",
     "output_type": "stream",
     "text": [
      "s\n"
     ]
    }
   ],
   "source": [
    "s = \"shakir\"\n",
    "\n",
    "print(s[:1])\n"
   ]
  },
  {
   "cell_type": "code",
   "execution_count": null,
   "metadata": {},
   "outputs": [],
   "source": []
  }
 ],
 "metadata": {
  "kernelspec": {
   "display_name": "Python 3",
   "language": "python",
   "name": "python3"
  },
  "language_info": {
   "codemirror_mode": {
    "name": "ipython",
    "version": 3
   },
   "file_extension": ".py",
   "mimetype": "text/x-python",
   "name": "python",
   "nbconvert_exporter": "python",
   "pygments_lexer": "ipython3",
   "version": "3.7.1"
  }
 },
 "nbformat": 4,
 "nbformat_minor": 2
}
