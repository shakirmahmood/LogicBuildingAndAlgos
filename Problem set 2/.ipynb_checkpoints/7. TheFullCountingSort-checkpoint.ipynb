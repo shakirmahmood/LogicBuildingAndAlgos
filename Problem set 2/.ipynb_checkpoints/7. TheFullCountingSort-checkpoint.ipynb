{
 "cells": [
  {
   "cell_type": "code",
   "execution_count": 68,
   "metadata": {},
   "outputs": [
    {
     "name": "stdout",
     "output_type": "stream",
     "text": [
      "Number of Entries: 20\n",
      "- - - - - to be or not to be - that is the question - - - - "
     ]
    }
   ],
   "source": [
    "def replace(arr, num):\n",
    "    for i in range(int(num/2)):\n",
    "        arr[i][1] = \"-\"\n",
    "    return arr\n",
    "        \n",
    "num = int(input(\"Number of Entries: \"))\n",
    "\n",
    "arr = [[0, \"ab\"], [6 ,\"cd\"], [0 ,\"ef\"], [6 ,\"gh\"], [4 ,\"ij\"], [0 ,\"ab\"], [6 ,\"cd\"], [0 ,\"ef\"], [6 ,\"gh\"], [0 ,\"ij\"], [4 ,\"that\"], [3 ,\"be\"], [0 ,\"to\"], [1 ,\"be\"], [5 ,\"question\"], [1 ,\"or\"], [2 ,\"not\"], [4 ,\"is\"], [2 ,\"to\"], [4 ,\"the\"]] \n",
    "\n",
    "#for i in range(num):\n",
    " #       arr.insert(i, [int(input(\"Enter integer: \")), input(\"Enter the string: \")])\n",
    "  \n",
    "arr = replace(arr, num)\n",
    "#arr.sort()\n",
    "arr = sorted(arr, key = lambda x: x[0])\n",
    "\n",
    "for i in arr:\n",
    "    print(i[1],\"\",end = \"\")\n",
    "    \n"
   ]
  },
  {
   "cell_type": "code",
   "execution_count": 45,
   "metadata": {},
   "outputs": [
    {
     "name": "stdout",
     "output_type": "stream",
     "text": [
      "10121314\n",
      "5678\n",
      "91011\n",
      "1213141516\n"
     ]
    }
   ],
   "source": [
    "days = [[10,12,13,14],[5,6,7,8],[9,10,11],[12,13,14,15,16]]\n",
    "\n",
    "for i in days:\n",
    "    for j in i:\n",
    "        print(j,end = \"\")\n",
    "    print()"
   ]
  },
  {
   "cell_type": "code",
   "execution_count": 56,
   "metadata": {},
   "outputs": [
    {
     "name": "stdout",
     "output_type": "stream",
     "text": [
      "[[0, 'ab'], [6, 'cd'], [0, 'ef'], [6, 'gh'], [4, 'ij'], [0, 'ab'], [6, 'cd'], [0, 'ef'], [6, 'gh'], [0, 'ij'], [4, 'that'], [3, 'be'], [0, 'to'], [1, 'be'], [5, 'question'], [1, 'or'], [2, 'not'], [4, 'is'], [2, 'to'], [4, 'the']]\n"
     ]
    }
   ],
   "source": [
    "arr = [\n",
    "[0, \"ab\"],\n",
    "[6 ,\"cd\"],\n",
    "[0 ,\"ef\"],\n",
    "[6 ,\"gh\"],\n",
    "[4 ,\"ij\"],\n",
    "[0 ,\"ab\"],\n",
    "[6 ,\"cd\"],\n",
    "[0 ,\"ef\"],\n",
    "[6 ,\"gh\"],\n",
    "[0 ,\"ij\"],\n",
    "[4 ,\"that\"],\n",
    "[3 ,\"be\"],\n",
    "[0 ,\"to\"],\n",
    "[1 ,\"be\"],\n",
    "[5 ,\"question\"],\n",
    "[1 ,\"or\"],\n",
    "[2 ,\"not\"],\n",
    "[4 ,\"is\"],\n",
    "[2 ,\"to\"],\n",
    "[4 ,\"the\"]]\n",
    "\n",
    "print(arr)"
   ]
  },
  {
   "cell_type": "code",
   "execution_count": null,
   "metadata": {},
   "outputs": [],
   "source": []
  },
  {
   "cell_type": "code",
   "execution_count": null,
   "metadata": {},
   "outputs": [],
   "source": []
  }
 ],
 "metadata": {
  "kernelspec": {
   "display_name": "Python 3",
   "language": "python",
   "name": "python3"
  },
  "language_info": {
   "codemirror_mode": {
    "name": "ipython",
    "version": 3
   },
   "file_extension": ".py",
   "mimetype": "text/x-python",
   "name": "python",
   "nbconvert_exporter": "python",
   "pygments_lexer": "ipython3",
   "version": "3.7.1"
  }
 },
 "nbformat": 4,
 "nbformat_minor": 2
}
