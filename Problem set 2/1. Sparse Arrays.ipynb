{
 "cells": [
  {
   "cell_type": "code",
   "execution_count": 2,
   "metadata": {},
   "outputs": [
    {
     "name": "stdout",
     "output_type": "stream",
     "text": [
      "Enter the total number of strings: 4\n",
      "Enter the total number of queries: 3\n",
      "Enter strings: \n",
      "aba\n",
      "baba\n",
      "aba\n",
      "xzxb\n",
      "Enter queries: \n",
      "aba\n",
      "xzxb\n",
      "ab\n",
      "[2, 1, 0]\n"
     ]
    },
    {
     "data": {
      "text/plain": [
       "'\\nTest Cases:\\nstrings: aba baba aba xzxb\\nqueries: aba xzxb ab\\n'"
      ]
     },
     "execution_count": 2,
     "metadata": {},
     "output_type": "execute_result"
    }
   ],
   "source": [
    "def matchingStrings(strings, queries):\n",
    "    count_list = []\n",
    "    count = 0\n",
    "    for i in queries:\n",
    "        for j in strings:\n",
    "            if i == j:\n",
    "                count += 1\n",
    "        count_list.append(count)\n",
    "        count = 0\n",
    "    return count_list\n",
    "\n",
    "num_str = int(input(\"Enter the total number of strings: \"))\n",
    "num_que = int(input(\"Enter the total number of queries: \"))\n",
    "\n",
    "strings = []\n",
    "queries = []\n",
    "\n",
    "print(\"Enter strings: \")\n",
    "for i in range(num_str):\n",
    "    strings.append(input())\n",
    "    \n",
    "print(\"Enter queries: \")\n",
    "for i in range(num_que):\n",
    "    queries.append(input())\n",
    "\n",
    "count_list = matchingStrings(strings, queries)\n",
    "print(count_list)\n",
    "\n",
    "'''\n",
    "Test Cases:\n",
    "strings: aba baba aba xzxb\n",
    "queries: aba xzxb ab\n",
    "'''\n"
   ]
  },
  {
   "cell_type": "code",
   "execution_count": null,
   "metadata": {},
   "outputs": [],
   "source": []
  }
 ],
 "metadata": {
  "kernelspec": {
   "display_name": "Python 3",
   "language": "python",
   "name": "python3"
  },
  "language_info": {
   "codemirror_mode": {
    "name": "ipython",
    "version": 3
   },
   "file_extension": ".py",
   "mimetype": "text/x-python",
   "name": "python",
   "nbconvert_exporter": "python",
   "pygments_lexer": "ipython3",
   "version": "3.7.1"
  }
 },
 "nbformat": 4,
 "nbformat_minor": 2
}
