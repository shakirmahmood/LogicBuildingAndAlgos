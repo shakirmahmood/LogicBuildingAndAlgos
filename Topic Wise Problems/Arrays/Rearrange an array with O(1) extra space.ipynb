{
 "cells": [
  {
   "cell_type": "code",
   "execution_count": 36,
   "metadata": {},
   "outputs": [
    {
     "name": "stdout",
     "output_type": "stream",
     "text": [
      "Enter string: 4 0 2 1 3\n",
      "[3, 4, 2, 0, 1]\n"
     ]
    }
   ],
   "source": [
    "def count_digits(n):\n",
    "    count = 0\n",
    "    if n % 10 == 0:\n",
    "        count += 1\n",
    "    while n >= 1:\n",
    "        n = n / 10\n",
    "        count += 1\n",
    "    return count\n",
    "    \n",
    "arr = list(map(int, input(\"Enter string: \").split()))\n",
    "#Tect Case:\n",
    "#4 0 2 1 3\n",
    "#3 2 0 1\n",
    "\n",
    "d = list(map(count_digits, arr))\n",
    "\n",
    "for i in range(len(arr)):\n",
    "    arr[i] = (arr[arr[i]] % (10 ** d[i])) *(10**d[i]) + arr[i]\n",
    "    \n",
    "for i in range(len(arr)):\n",
    "    arr[i] = arr[i] // (10**d[i])\n",
    "      \n",
    "print(arr)\n",
    "\n",
    "#d = count_digits(2)\n",
    "#print(d)"
   ]
  },
  {
   "cell_type": "code",
   "execution_count": null,
   "metadata": {},
   "outputs": [],
   "source": []
  },
  {
   "cell_type": "code",
   "execution_count": null,
   "metadata": {},
   "outputs": [],
   "source": []
  }
 ],
 "metadata": {
  "kernelspec": {
   "display_name": "Python 3",
   "language": "python",
   "name": "python3"
  },
  "language_info": {
   "codemirror_mode": {
    "name": "ipython",
    "version": 3
   },
   "file_extension": ".py",
   "mimetype": "text/x-python",
   "name": "python",
   "nbconvert_exporter": "python",
   "pygments_lexer": "ipython3",
   "version": "3.7.1"
  }
 },
 "nbformat": 4,
 "nbformat_minor": 2
}
