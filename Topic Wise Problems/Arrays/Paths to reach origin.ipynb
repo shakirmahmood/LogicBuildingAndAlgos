{
 "cells": [
  {
   "cell_type": "code",
   "execution_count": 2,
   "metadata": {},
   "outputs": [
    {
     "name": "stdout",
     "output_type": "stream",
     "text": [
      "Enter the coordinates: \n",
      "3\n",
      "2\n",
      "Paths:  10\n"
     ]
    }
   ],
   "source": [
    "def cp(x,y): \n",
    "    if (x == 0 or y == 0): \n",
    "        return 1\n",
    "    return (cp(x-1, y) + cp(x, y-1)) \n",
    "\n",
    "print(\"Enter the coordinates: \")\n",
    "x, y = int(input()),int(input())\n",
    "print(\"Paths: \", cp(x, y)) \n",
    "  \n"
   ]
  },
  {
   "cell_type": "markdown",
   "metadata": {},
   "source": []
  },
  {
   "cell_type": "code",
   "execution_count": null,
   "metadata": {},
   "outputs": [],
   "source": []
  }
 ],
 "metadata": {
  "kernelspec": {
   "display_name": "Python 3",
   "language": "python",
   "name": "python3"
  },
  "language_info": {
   "codemirror_mode": {
    "name": "ipython",
    "version": 3
   },
   "file_extension": ".py",
   "mimetype": "text/x-python",
   "name": "python",
   "nbconvert_exporter": "python",
   "pygments_lexer": "ipython3",
   "version": "3.7.1"
  }
 },
 "nbformat": 4,
 "nbformat_minor": 2
}
