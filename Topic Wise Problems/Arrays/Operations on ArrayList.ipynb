{
 "cells": [
  {
   "cell_type": "code",
   "execution_count": 49,
   "metadata": {},
   "outputs": [
    {
     "name": "stdout",
     "output_type": "stream",
     "text": [
      "3 is at index 2\n",
      "[2, 2, 3, 4]\n"
     ]
    }
   ],
   "source": [
    "def insert(arr, var):\n",
    "    arr.append(int(var))\n",
    "    \n",
    "def incOrder(arr):\n",
    "    arr.sort()\n",
    "\n",
    "def decOrder(arr):\n",
    "    arr.sort(reverse = True)\n",
    "    \n",
    "def search(arr, var):\n",
    "    try:\n",
    "        print(int(var),\"is at index\",arr.index(int(var)))\n",
    "    except ValueError as e:\n",
    "        print(e)\n",
    "\n",
    "s = \"a2a3a4a2is3\"\n",
    "#s = \"a 2 a 3 a 3 d s 5\"\n",
    "arr = []\n",
    "for i in range(len(s)):\n",
    "    if s[i] == \"a\":\n",
    "        insert(arr,s[i+1])\n",
    "    elif s[i] == \"i\":\n",
    "        incOrder(arr)\n",
    "    elif s[i] == \"d\":\n",
    "        decOrder(arr)\n",
    "    elif s[i] == \"s\":\n",
    "        search(arr, s[i+1])\n",
    "        \n",
    "print(arr)\n",
    "\n"
   ]
  },
  {
   "cell_type": "code",
   "execution_count": null,
   "metadata": {},
   "outputs": [],
   "source": []
  }
 ],
 "metadata": {
  "kernelspec": {
   "display_name": "Python 3",
   "language": "python",
   "name": "python3"
  },
  "language_info": {
   "codemirror_mode": {
    "name": "ipython",
    "version": 3
   },
   "file_extension": ".py",
   "mimetype": "text/x-python",
   "name": "python",
   "nbconvert_exporter": "python",
   "pygments_lexer": "ipython3",
   "version": "3.7.1"
  }
 },
 "nbformat": 4,
 "nbformat_minor": 2
}
