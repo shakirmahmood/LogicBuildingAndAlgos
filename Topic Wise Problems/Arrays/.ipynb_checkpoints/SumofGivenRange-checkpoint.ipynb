{
 "cells": [
  {
   "cell_type": "code",
   "execution_count": 18,
   "metadata": {},
   "outputs": [
    {
     "name": "stdout",
     "output_type": "stream",
     "text": [
      "Enter no. of elements: 6\n",
      "Lower limit: 1\n",
      "Upper limit: 3\n",
      "Enter elements: \n",
      "1\n",
      "3\n",
      "5\n",
      "7\n",
      "9\n",
      "11\n",
      "Sum:  15\n"
     ]
    }
   ],
   "source": [
    "def cal_sum(arr,a,b):\n",
    "    s = 0\n",
    "    while a <= b:\n",
    "        s = s + arr[a]\n",
    "        a += 1\n",
    "    return s\n",
    "\n",
    "\n",
    "n ,a, b = int(input(\"Enter no. of elements: \")), int(input(\"Lower limit: \")), int(input(\"Upper limit: \")) \n",
    "arr = []\n",
    "\n",
    "print(\"Enter elements: \")\n",
    "for i in range(n):\n",
    "    arr.append(int(input()))\n",
    "\n",
    "print(\"Sum:\", cal_sum(arr,a,b))"
   ]
  },
  {
   "cell_type": "markdown",
   "metadata": {},
   "source": []
  },
  {
   "cell_type": "code",
   "execution_count": null,
   "metadata": {},
   "outputs": [],
   "source": []
  }
 ],
 "metadata": {
  "kernelspec": {
   "display_name": "Python 3",
   "language": "python",
   "name": "python3"
  },
  "language_info": {
   "codemirror_mode": {
    "name": "ipython",
    "version": 3
   },
   "file_extension": ".py",
   "mimetype": "text/x-python",
   "name": "python",
   "nbconvert_exporter": "python",
   "pygments_lexer": "ipython3",
   "version": "3.7.1"
  }
 },
 "nbformat": 4,
 "nbformat_minor": 2
}
