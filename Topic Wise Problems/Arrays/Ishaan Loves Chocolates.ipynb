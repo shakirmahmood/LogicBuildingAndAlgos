{
 "cells": [
  {
   "cell_type": "code",
   "execution_count": 22,
   "metadata": {},
   "outputs": [
    {
     "name": "stdout",
     "output_type": "stream",
     "text": [
      "Enter string: 2 6 4 8 1 6\n",
      "1\n"
     ]
    }
   ],
   "source": [
    "s = input(\"Enter string: \").split()\n",
    "# s = [5 3 1 6 9]\n",
    "# s = [2 6 4 8 1 6]\n",
    "# s = [2 2 2 2]\n",
    "s = list(map(int, s))\n",
    "\n",
    "for i in range(len(s)-1):\n",
    "    s.remove(max(s))\n",
    "print(s[0])    "
   ]
  },
  {
   "cell_type": "code",
   "execution_count": null,
   "metadata": {},
   "outputs": [],
   "source": []
  }
 ],
 "metadata": {
  "kernelspec": {
   "display_name": "Python 3",
   "language": "python",
   "name": "python3"
  },
  "language_info": {
   "codemirror_mode": {
    "name": "ipython",
    "version": 3
   },
   "file_extension": ".py",
   "mimetype": "text/x-python",
   "name": "python",
   "nbconvert_exporter": "python",
   "pygments_lexer": "ipython3",
   "version": "3.7.1"
  }
 },
 "nbformat": 4,
 "nbformat_minor": 2
}
