{
 "cells": [
  {
   "cell_type": "code",
   "execution_count": 86,
   "metadata": {},
   "outputs": [
    {
     "name": "stdout",
     "output_type": "stream",
     "text": [
      "Enter a: 2\n",
      "Enter b: 0\n",
      "Sum: 2.0\n",
      "Difference: 2.0\n",
      "Product: 0.0\n",
      "float division by zero\n",
      "Enter Dividend: 2\n",
      "Enter Divisor: 1\n",
      "Division: 2.0\n",
      "float modulo\n",
      "Enter Dividend: 2\n",
      "Enter Divisor: 1\n",
      "Modulus: 0.0\n",
      "Square Root: (1.4142135623730951, 0.0)\n",
      "Factorial: 2.0\n"
     ]
    }
   ],
   "source": [
    "import math as m\n",
    "\n",
    "def add(a,b):\n",
    "    return a + b\n",
    "\n",
    "def diff(a,b):\n",
    "    return a - b\n",
    "\n",
    "def prod(a,b):\n",
    "    return a * b\n",
    "\n",
    "def div(a,b):\n",
    "    try:\n",
    "        return a / b\n",
    "    except ZeroDivisionError as e:\n",
    "        print(e)\n",
    "        return div(float(input(\"Enter Dividend: \")), float(input(\"Enter Divisor: \")))\n",
    "\n",
    "def sq_root(a,b):\n",
    "    try:\n",
    "        return m.sqrt(a),m.sqrt(b)\n",
    "    except ValueError as e:\n",
    "        print(e)\n",
    "        return sq_root(float(input(\"Enter a:\")),float(input(\"Enter b:\")))\n",
    "\n",
    "def mod(a,b):\n",
    "    try:\n",
    "        return a % b\n",
    "    except ZeroDivisionError as e:\n",
    "        print(e)\n",
    "        return mod(float(input(\"Enter Dividend: \")), float(input(\"Enter Divisor: \")))\n",
    "\n",
    "def factorial(n):\n",
    "    try:\n",
    "        if n < 0:\n",
    "            raise ValueError(\"Cannot take a factorial of negative number\")\n",
    "        else:\n",
    "            if n == 0:\n",
    "                return 1\n",
    "            else:\n",
    "                return n*factorial(n-1)\n",
    "    except ValueError as e:\n",
    "        print(e)\n",
    "        return factorial(int(input(\"Enter a valid number: \")))\n",
    "\n",
    "def enter_values():\n",
    "    try:\n",
    "        a = float(input(\"Enter a: \"))\n",
    "        b = float(input(\"Enter b: \"))\n",
    "        return a, b\n",
    "    except ValueError as e:\n",
    "        print(e)\n",
    "        print(\"Enter valid numbers: \")\n",
    "        return enter_values()\n",
    "        \n",
    "\n",
    "a, b = enter_values()\n",
    "\n",
    "print(\"Sum:\",add(a,b))\n",
    "print(\"Difference:\",diff(a,b))\n",
    "print(\"Product:\",prod(a,b))\n",
    "print(\"Division:\",div(a,b))\n",
    "print(\"Modulus:\",mod(a,b))\n",
    "print(\"Square Root:\",sq_root(a,b))\n",
    "print(\"Factorial:\",factorial(a))\n",
    "\n",
    "\n"
   ]
  },
  {
   "cell_type": "markdown",
   "metadata": {},
   "source": [
    "def factorial(n):\n",
    "    if n == 0:\n",
    "        return 1\n",
    "    else:\n",
    "        return n*factorial(n-1)\n",
    "\n",
    "print(factorial(3))"
   ]
  },
  {
   "cell_type": "code",
   "execution_count": null,
   "metadata": {},
   "outputs": [],
   "source": []
  },
  {
   "cell_type": "code",
   "execution_count": null,
   "metadata": {},
   "outputs": [],
   "source": []
  }
 ],
 "metadata": {
  "kernelspec": {
   "display_name": "Python 3",
   "language": "python",
   "name": "python3"
  },
  "language_info": {
   "codemirror_mode": {
    "name": "ipython",
    "version": 3
   },
   "file_extension": ".py",
   "mimetype": "text/x-python",
   "name": "python",
   "nbconvert_exporter": "python",
   "pygments_lexer": "ipython3",
   "version": "3.7.1"
  }
 },
 "nbformat": 4,
 "nbformat_minor": 2
}
