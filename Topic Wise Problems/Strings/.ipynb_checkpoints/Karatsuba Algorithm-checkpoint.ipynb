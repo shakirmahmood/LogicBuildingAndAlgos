{
 "cells": [
  {
   "cell_type": "code",
   "execution_count": 10,
   "metadata": {},
   "outputs": [
    {
     "name": "stdout",
     "output_type": "stream",
     "text": [
      "Enter two strings: 01 01\n",
      "1\n"
     ]
    }
   ],
   "source": [
    "strings = input(\"Enter two strings: \").split()\n",
    "\n",
    "s = [0, 0]\n",
    "for j in range(len(strings)):\n",
    "    for i in range(len(strings[j])):\n",
    "        s[j] = s[j] + int(strings[j][i])*(2**(len(strings[j])-1-i))\n",
    "print(s[0]*s[1])"
   ]
  },
  {
   "cell_type": "code",
   "execution_count": null,
   "metadata": {},
   "outputs": [],
   "source": []
  },
  {
   "cell_type": "code",
   "execution_count": null,
   "metadata": {},
   "outputs": [],
   "source": []
  }
 ],
 "metadata": {
  "kernelspec": {
   "display_name": "Python 3",
   "language": "python",
   "name": "python3"
  },
  "language_info": {
   "codemirror_mode": {
    "name": "ipython",
    "version": 3
   },
   "file_extension": ".py",
   "mimetype": "text/x-python",
   "name": "python",
   "nbconvert_exporter": "python",
   "pygments_lexer": "ipython3",
   "version": "3.7.1"
  }
 },
 "nbformat": 4,
 "nbformat_minor": 2
}
