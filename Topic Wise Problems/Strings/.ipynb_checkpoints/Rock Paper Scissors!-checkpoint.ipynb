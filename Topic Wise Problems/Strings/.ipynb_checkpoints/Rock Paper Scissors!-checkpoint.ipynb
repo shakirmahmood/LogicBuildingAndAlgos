{
 "cells": [
  {
   "cell_type": "code",
   "execution_count": 27,
   "metadata": {},
   "outputs": [
    {
     "name": "stdout",
     "output_type": "stream",
     "text": [
      "Enter the pair:RR RS SR SP PP PS RP\n",
      "Draw\n",
      "A\n",
      "B\n",
      "A\n",
      "Draw\n",
      "B\n",
      "B\n"
     ]
    },
    {
     "data": {
      "text/plain": [
       "'\\nTest Cases:\\nRR\\nRS\\nSR\\nSP\\nPP\\nPS\\nRP'"
      ]
     },
     "execution_count": 27,
     "metadata": {},
     "output_type": "execute_result"
    }
   ],
   "source": [
    "#t = int(input(\"Enter the number of data pairs: \"))\n",
    "\n",
    "s = input(\"Enter the pair:\").split()\n",
    "\n",
    "for i in range(len(s)):\n",
    "    if s[i] == \"RR\" or s[i] == \"SS\" or s[i] == \"PP\":\n",
    "        print(\"Draw\")\n",
    "    elif s[i] == \"RS\" or s[i] == \"SP\" or s[i] == \"PR\":\n",
    "        print(\"A\")\n",
    "    elif s[i] == \"SR\" or s[i] == \"PS\" or s[i] == \"RP\":\n",
    "        print(\"B\")\n",
    "    else:\n",
    "        print(\"Invalid Pair\")\n",
    "        \n",
    "        \n",
    "'''\n",
    "Test Cases:\n",
    "RR\n",
    "RS\n",
    "SR\n",
    "SP\n",
    "PP\n",
    "PS\n",
    "RP'''\n"
   ]
  },
  {
   "cell_type": "code",
   "execution_count": 22,
   "metadata": {},
   "outputs": [
    {
     "name": "stdout",
     "output_type": "stream",
     "text": [
      "PS\n"
     ]
    }
   ],
   "source": []
  },
  {
   "cell_type": "code",
   "execution_count": null,
   "metadata": {},
   "outputs": [],
   "source": []
  }
 ],
 "metadata": {
  "kernelspec": {
   "display_name": "Python 3",
   "language": "python",
   "name": "python3"
  },
  "language_info": {
   "codemirror_mode": {
    "name": "ipython",
    "version": 3
   },
   "file_extension": ".py",
   "mimetype": "text/x-python",
   "name": "python",
   "nbconvert_exporter": "python",
   "pygments_lexer": "ipython3",
   "version": "3.7.1"
  }
 },
 "nbformat": 4,
 "nbformat_minor": 2
}
