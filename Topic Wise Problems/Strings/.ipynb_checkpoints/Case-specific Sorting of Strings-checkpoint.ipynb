{
 "cells": [
  {
   "cell_type": "code",
   "execution_count": 65,
   "metadata": {},
   "outputs": [
    {
     "name": "stdout",
     "output_type": "stream",
     "text": [
      "Enter a string: defRTSersUXI\n",
      "['I', 'R', 'S', 'T', 'U', 'X', 'd', 'e', 'e', 'f', 'r', 's']\n",
      "['I', 'R', 'S', 'T', 'U', 'X']\n",
      "['d', 'e', 'e', 'f', 'r', 's']\n",
      "deeIRSfrsTUX\n"
     ]
    }
   ],
   "source": [
    "#Test Case:\n",
    "#Input: defRTSersUXI\n",
    "#Output: deeIRSfrsTUX\n",
    "\n",
    "s = input(\"Enter a string: \")\n",
    "up = \"\"\n",
    "low = sorted(s)\n",
    "for i in range(len(s)):\n",
    "    if low[i].islower():\n",
    "        up = low[:i]\n",
    "        low = low[i:]\n",
    "        break\n",
    "j = 0\n",
    "k = 0\n",
    "for i in range(len(s)):\n",
    "    if s[i].isupper():\n",
    "        s = s[:i] + up[j] + s[i+1:]\n",
    "        j += 1\n",
    "    else:\n",
    "        s = s[:i] + low[k] + s[i+1:]\n",
    "        k += 1\n",
    "print(s)\n",
    "\n"
   ]
  },
  {
   "cell_type": "code",
   "execution_count": 12,
   "metadata": {},
   "outputs": [
    {
     "name": "stdout",
     "output_type": "stream",
     "text": [
      "z\n"
     ]
    }
   ],
   "source": [
    "data_base = \"abcdefghijklmnopqrstuvwxyz\"\n",
    "\n",
    "print(data_base[-1(0+1)])"
   ]
  },
  {
   "cell_type": "code",
   "execution_count": null,
   "metadata": {},
   "outputs": [],
   "source": []
  }
 ],
 "metadata": {
  "kernelspec": {
   "display_name": "Python 3",
   "language": "python",
   "name": "python3"
  },
  "language_info": {
   "codemirror_mode": {
    "name": "ipython",
    "version": 3
   },
   "file_extension": ".py",
   "mimetype": "text/x-python",
   "name": "python",
   "nbconvert_exporter": "python",
   "pygments_lexer": "ipython3",
   "version": "3.7.1"
  }
 },
 "nbformat": 4,
 "nbformat_minor": 2
}
