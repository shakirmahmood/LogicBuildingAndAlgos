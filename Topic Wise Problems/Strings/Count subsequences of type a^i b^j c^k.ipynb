{
 "cells": [
  {
   "cell_type": "code",
   "execution_count": 72,
   "metadata": {},
   "outputs": [
    {
     "name": "stdout",
     "output_type": "stream",
     "text": [
      "0\n",
      "Yes\n",
      "Yes\n",
      "Yes\n",
      "Yes\n",
      "1\n",
      "Yes\n",
      "Yes\n",
      "Yes\n",
      "Yes\n",
      "Yes\n",
      "2\n",
      "Yes\n",
      "Yes\n",
      "Yes\n",
      "3\n",
      "Yes\n",
      "4\n",
      "13\n"
     ]
    }
   ],
   "source": [
    "def unique(st):\n",
    "    for x in temp+s[j]:\n",
    "        if x not in output:\n",
    "            output = output + x\n",
    "            return output\n",
    "#s = input(\"Enter string: \")\n",
    "s = \"abcabc\"\n",
    "s1 = \"\"\n",
    "temp = \"\"\n",
    "k=0\n",
    "count = 0\n",
    "for l in range(len(s)-1):\n",
    "    for k in range(len(s)-l):\n",
    "        for i in range(len(s)-k-1-l):\n",
    "            temp = s[k:k+1+l]+s[l+k+i+1]\n",
    "            j = i+k+2+l\n",
    "            while j < len(s):\n",
    "                output = \"\"\n",
    "                for x in temp+s[j]:\n",
    "                    if x not in output:\n",
    "                        output = output + x\n",
    "                if output == \"abc\":\n",
    "                    count += 1\n",
    "                    print(\"Yes\")\n",
    "                j += 1\n",
    "                \n",
    "print(count)"
   ]
  },
  {
   "cell_type": "code",
   "execution_count": 59,
   "metadata": {},
   "outputs": [
    {
     "ename": "AttributeError",
     "evalue": "'str' object has no attribute 'append'",
     "output_type": "error",
     "traceback": [
      "\u001b[0;31m---------------------------------------------------------------------------\u001b[0m",
      "\u001b[0;31mAttributeError\u001b[0m                            Traceback (most recent call last)",
      "\u001b[0;32m<ipython-input-59-bd9b45c8b4bb>\u001b[0m in \u001b[0;36m<module>\u001b[0;34m\u001b[0m\n\u001b[1;32m      3\u001b[0m \u001b[0;32mfor\u001b[0m \u001b[0mx\u001b[0m \u001b[0;32min\u001b[0m \u001b[0mtemp\u001b[0m\u001b[0;34m:\u001b[0m\u001b[0;34m\u001b[0m\u001b[0;34m\u001b[0m\u001b[0m\n\u001b[1;32m      4\u001b[0m     \u001b[0;32mif\u001b[0m \u001b[0mx\u001b[0m \u001b[0;32mnot\u001b[0m \u001b[0;32min\u001b[0m \u001b[0moutput\u001b[0m\u001b[0;34m:\u001b[0m\u001b[0;34m\u001b[0m\u001b[0;34m\u001b[0m\u001b[0m\n\u001b[0;32m----> 5\u001b[0;31m         \u001b[0moutput\u001b[0m\u001b[0;34m.\u001b[0m\u001b[0mappend\u001b[0m\u001b[0;34m(\u001b[0m\u001b[0mx\u001b[0m\u001b[0;34m)\u001b[0m\u001b[0;34m\u001b[0m\u001b[0;34m\u001b[0m\u001b[0m\n\u001b[0m\u001b[1;32m      6\u001b[0m \u001b[0mprint\u001b[0m\u001b[0;34m(\u001b[0m\u001b[0moutput\u001b[0m\u001b[0;34m)\u001b[0m\u001b[0;34m\u001b[0m\u001b[0;34m\u001b[0m\u001b[0m\n",
      "\u001b[0;31mAttributeError\u001b[0m: 'str' object has no attribute 'append'"
     ]
    }
   ],
   "source": [
    "temp = \"a c b b c\".split()\n",
    "output = \"\"\n",
    "for x in temp:\n",
    "    if x not in output:\n",
    "        output.append(x)\n",
    "print(output)"
   ]
  },
  {
   "cell_type": "code",
   "execution_count": 107,
   "metadata": {},
   "outputs": [
    {
     "name": "stdout",
     "output_type": "stream",
     "text": [
      "abc\n",
      "abc\n",
      "aba\n",
      "aba\n",
      "ab\n",
      "abb\n",
      "abc\n",
      "abc\n",
      "bca\n",
      "bca\n",
      "bcb\n",
      "bcb\n",
      "bc\n",
      "bcc\n",
      "cab\n",
      "cab\n",
      "cac\n",
      "cac\n",
      "abc\n",
      "abc\n",
      "abca\n",
      "abca\n",
      "abcb\n",
      "abcb\n",
      "abc\n",
      "abcc\n",
      "bcab\n",
      "bcab\n",
      "bcac\n",
      "bcac\n",
      "cabc\n",
      "cabc\n",
      "abcab\n",
      "abcab\n",
      "abcac\n",
      "abcac\n",
      "bcabc\n",
      "bcabc\n",
      "abcabc\n",
      "abcabc\n",
      "4\n"
     ]
    }
   ],
   "source": [
    "def unique(st):\n",
    "    s = \"\"\n",
    "    s = s + st[0]\n",
    "    for i in range(len(st)):\n",
    "        if st[i] != s[-1]:\n",
    "            s = s + st[i]\n",
    "    return s\n",
    "        \n",
    "s = \"abcabc\"\n",
    "count = 0\n",
    "for k in range(len(s)):\n",
    "    for i in range(len(s)-(k+2)):\n",
    "        j = i+k+2\n",
    "        while j < len(s):\n",
    "            #print(s[i:i+k+2]+s[j])\n",
    "            out = unique(s[i:i+k+2]+s[j])\n",
    "            print(out)\n",
    "            print(s[i:i+k+2]+s[j])\n",
    "            if out == \"abc\":\n",
    "                count += 1\n",
    "            j+=1\n",
    "        #print(s[i:i+k+2])\n",
    "        #print(i+k+2)\n",
    "print(count)"
   ]
  },
  {
   "cell_type": "code",
   "execution_count": 94,
   "metadata": {},
   "outputs": [
    {
     "name": "stdout",
     "output_type": "stream",
     "text": [
      "False\n"
     ]
    }
   ],
   "source": [
    "print(\"bca\"==\"abc\")"
   ]
  },
  {
   "cell_type": "code",
   "execution_count": 106,
   "metadata": {},
   "outputs": [
    {
     "name": "stdout",
     "output_type": "stream",
     "text": [
      "bcbaca\n",
      "bcbaca\n"
     ]
    }
   ],
   "source": [
    "def unique(st):\n",
    "    s = \"\"\n",
    "    s = s + st[0]\n",
    "    for i in range(len(st)):\n",
    "        if st[i] != s[-1]:\n",
    "            s = s + st[i]\n",
    "    return s\n",
    "\n",
    "s = unique(\"bcbbaacaa\")\n",
    "print(s)"
   ]
  },
  {
   "cell_type": "code",
   "execution_count": null,
   "metadata": {},
   "outputs": [],
   "source": []
  }
 ],
 "metadata": {
  "kernelspec": {
   "display_name": "Python 3",
   "language": "python",
   "name": "python3"
  },
  "language_info": {
   "codemirror_mode": {
    "name": "ipython",
    "version": 3
   },
   "file_extension": ".py",
   "mimetype": "text/x-python",
   "name": "python",
   "nbconvert_exporter": "python",
   "pygments_lexer": "ipython3",
   "version": "3.7.1"
  }
 },
 "nbformat": 4,
 "nbformat_minor": 2
}
