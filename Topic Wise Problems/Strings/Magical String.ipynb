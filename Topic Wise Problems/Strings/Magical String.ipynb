{
 "cells": [
  {
   "cell_type": "code",
   "execution_count": null,
   "metadata": {},
   "outputs": [],
   "source": [
    "s = input(\"Enter a string: \")\n",
    "data_base = \"abcdefghijklmnopqrstuvwxyz\"\n",
    "\n",
    "a = \"\"\n",
    "for i in s:\n",
    "    a = a + data_base[-(data_base.find(i)+1)]\n",
    "print(a)\n",
    "\n",
    "'''\n",
    "Inputs:\n",
    "varun\n",
    "akshay\n",
    "vijay\n",
    "\n",
    "Outputs:\n",
    "ezifm\n",
    "zphszb\n",
    "erqzb'''"
   ]
  }
 ],
 "metadata": {
  "kernelspec": {
   "display_name": "Python 3",
   "language": "python",
   "name": "python3"
  },
  "language_info": {
   "codemirror_mode": {
    "name": "ipython",
    "version": 3
   },
   "file_extension": ".py",
   "mimetype": "text/x-python",
   "name": "python",
   "nbconvert_exporter": "python",
   "pygments_lexer": "ipython3",
   "version": "3.7.1"
  }
 },
 "nbformat": 4,
 "nbformat_minor": 2
}
