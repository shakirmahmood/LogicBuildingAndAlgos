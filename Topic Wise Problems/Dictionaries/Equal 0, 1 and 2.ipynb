{
 "cells": [
  {
   "cell_type": "code",
   "execution_count": 23,
   "metadata": {},
   "outputs": [
    {
     "name": "stdout",
     "output_type": "stream",
     "text": [
      "Enter a string of 0s, 1s, 2s: 102100211\n",
      "102\n",
      "021\n",
      "210\n",
      "100\n",
      "002\n",
      "021\n",
      "211\n",
      "4\n"
     ]
    }
   ],
   "source": [
    "'''Input:\n",
    "0102010\n",
    "102100211\n",
    "\n",
    "Output:\n",
    "2\n",
    "4'''\n",
    "\n",
    "s = input(\"Enter a string of 0s, 1s, 2s: \")\n",
    "\n",
    "count = 0\n",
    "for i in range(len(s)-2):\n",
    "    temp = list(set(s[i:i+3]))\n",
    "    temp.sort()\n",
    "    print(s[i:i+3])\n",
    "    if sorted(s[i:i+3]) == temp:\n",
    "        count += 1\n",
    "        \n",
    "print(count)\n",
    "    "
   ]
  },
  {
   "cell_type": "code",
   "execution_count": null,
   "metadata": {},
   "outputs": [],
   "source": []
  },
  {
   "cell_type": "code",
   "execution_count": null,
   "metadata": {},
   "outputs": [],
   "source": []
  }
 ],
 "metadata": {
  "kernelspec": {
   "display_name": "Python 3",
   "language": "python",
   "name": "python3"
  },
  "language_info": {
   "codemirror_mode": {
    "name": "ipython",
    "version": 3
   },
   "file_extension": ".py",
   "mimetype": "text/x-python",
   "name": "python",
   "nbconvert_exporter": "python",
   "pygments_lexer": "ipython3",
   "version": "3.7.1"
  }
 },
 "nbformat": 4,
 "nbformat_minor": 2
}
