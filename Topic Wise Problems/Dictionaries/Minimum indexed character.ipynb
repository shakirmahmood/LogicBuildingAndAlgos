{
 "cells": [
  {
   "cell_type": "code",
   "execution_count": 2,
   "metadata": {},
   "outputs": [
    {
     "name": "stdout",
     "output_type": "stream",
     "text": [
      "Enter str: abc\n",
      "Enter patt: def\n",
      "No Characters found\n"
     ]
    }
   ],
   "source": [
    "st, patt = input(\"Enter str: \"), input(\"Enter patt: \")\n",
    "\n",
    "for i in st:\n",
    "    for j in patt:\n",
    "        if i == j:\n",
    "            break\n",
    "    if i == j:\n",
    "        break\n",
    "if i != j:\n",
    "    print(\"No Characters found\")\n",
    "else:\n",
    "    print(i)"
   ]
  },
  {
   "cell_type": "code",
   "execution_count": null,
   "metadata": {},
   "outputs": [],
   "source": []
  }
 ],
 "metadata": {
  "kernelspec": {
   "display_name": "Python 3",
   "language": "python",
   "name": "python3"
  },
  "language_info": {
   "codemirror_mode": {
    "name": "ipython",
    "version": 3
   },
   "file_extension": ".py",
   "mimetype": "text/x-python",
   "name": "python",
   "nbconvert_exporter": "python",
   "pygments_lexer": "ipython3",
   "version": "3.7.1"
  }
 },
 "nbformat": 4,
 "nbformat_minor": 2
}
