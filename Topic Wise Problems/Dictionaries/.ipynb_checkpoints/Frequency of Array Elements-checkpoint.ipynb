{
 "cells": [
  {
   "cell_type": "code",
   "execution_count": 7,
   "metadata": {},
   "outputs": [
    {
     "name": "stdout",
     "output_type": "stream",
     "text": [
      "Enter string of integers: 10 11 10 12 11 12 10 11 10 12 11 12 10 \n",
      "[0, 0, 0, 0, 0, 0, 0, 0, 0, 5, 4, 4, 0]\n"
     ]
    }
   ],
   "source": [
    "#Length of string should be >= the greatest number in the string\n",
    "s = list(map(int,input(\"Enter string of integers: \").split()))\n",
    "\n",
    "out = []\n",
    "for i in range(len(s)):\n",
    "    j = i + 1\n",
    "    out.append(s.count(j))\n",
    "print(out)"
   ]
  },
  {
   "cell_type": "code",
   "execution_count": null,
   "metadata": {},
   "outputs": [],
   "source": []
  }
 ],
 "metadata": {
  "kernelspec": {
   "display_name": "Python 3",
   "language": "python",
   "name": "python3"
  },
  "language_info": {
   "codemirror_mode": {
    "name": "ipython",
    "version": 3
   },
   "file_extension": ".py",
   "mimetype": "text/x-python",
   "name": "python",
   "nbconvert_exporter": "python",
   "pygments_lexer": "ipython3",
   "version": "3.7.1"
  }
 },
 "nbformat": 4,
 "nbformat_minor": 2
}
