{
 "cells": [
  {
   "cell_type": "code",
   "execution_count": 31,
   "metadata": {},
   "outputs": [
    {
     "name": "stdout",
     "output_type": "stream",
     "text": [
      "Enter string of integers: -1 2 -1 3 2\n",
      "3\n"
     ]
    }
   ],
   "source": [
    "'''Input: Output\n",
    "-1 2 -1 3 2 : 3\n",
    "9 4 9 6 7 4 : 6\n",
    "1 1 1 : 0\n",
    "-3 2 : -3\n",
    "'''\n",
    "s = list(map(int,input(\"Enter string of integers: \").split()))\n",
    "for i in s:\n",
    "    if s.count(i) == 1:\n",
    "        break\n",
    "    else:\n",
    "        i = 0\n",
    "print(i)\n",
    "\n",
    "\n"
   ]
  },
  {
   "cell_type": "code",
   "execution_count": null,
   "metadata": {},
   "outputs": [],
   "source": []
  }
 ],
 "metadata": {
  "kernelspec": {
   "display_name": "Python 3",
   "language": "python",
   "name": "python3"
  },
  "language_info": {
   "codemirror_mode": {
    "name": "ipython",
    "version": 3
   },
   "file_extension": ".py",
   "mimetype": "text/x-python",
   "name": "python",
   "nbconvert_exporter": "python",
   "pygments_lexer": "ipython3",
   "version": "3.7.1"
  }
 },
 "nbformat": 4,
 "nbformat_minor": 2
}
