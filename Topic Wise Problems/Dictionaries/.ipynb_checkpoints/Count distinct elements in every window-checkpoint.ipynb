{
 "cells": [
  {
   "cell_type": "code",
   "execution_count": 9,
   "metadata": {},
   "outputs": [
    {
     "name": "stdout",
     "output_type": "stream",
     "text": [
      "Enter string of integers: 4 1 1\n",
      "Enter size of window: 2\n",
      "[2, 1]\n"
     ]
    }
   ],
   "source": [
    "'''Input:\n",
    "1 2 1 3 4 2 3\n",
    "3 2\n",
    "4 1 1\n",
    "\n",
    "Output:\n",
    "3 4 4 3\n",
    "2 1'''\n",
    "s = input(\"Enter string of integers: \").split()\n",
    "k = int(input(\"Enter size of window: \"))\n",
    "\n",
    "temp = []\n",
    "for i in range(len(s)-k+1):\n",
    "    temp.append(len(set(s[i:i+k])))\n",
    "    \n",
    "print(temp)\n",
    "\n"
   ]
  },
  {
   "cell_type": "code",
   "execution_count": null,
   "metadata": {},
   "outputs": [],
   "source": []
  }
 ],
 "metadata": {
  "kernelspec": {
   "display_name": "Python 3",
   "language": "python",
   "name": "python3"
  },
  "language_info": {
   "codemirror_mode": {
    "name": "ipython",
    "version": 3
   },
   "file_extension": ".py",
   "mimetype": "text/x-python",
   "name": "python",
   "nbconvert_exporter": "python",
   "pygments_lexer": "ipython3",
   "version": "3.7.1"
  }
 },
 "nbformat": 4,
 "nbformat_minor": 2
}
