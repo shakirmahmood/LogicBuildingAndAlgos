{
 "cells": [
  {
   "cell_type": "code",
   "execution_count": 7,
   "metadata": {},
   "outputs": [
    {
     "name": "stdout",
     "output_type": "stream",
     "text": [
      "Enter the types of sweets: 1 1 2 2 5 4 2 2 2 5 4 1 1\n",
      "Enter the number of customers: 1\n",
      "0\n"
     ]
    }
   ],
   "source": [
    "#Test Case : 1 1 2 5 1 :1\n",
    "\n",
    "sweets = list(map(int,input(\"Enter the types of sweets: \").split()))\n",
    "cust = int(input(\"Enter the number of customers: \"))\n",
    "\n",
    "flag = 0\n",
    "for i in sweets:\n",
    "    if sweets.count(i) > cust*2:\n",
    "        flag = 1\n",
    "        print(0)\n",
    "        break\n",
    "if flag == 0:\n",
    "    print(1)\n",
    "        "
   ]
  },
  {
   "cell_type": "code",
   "execution_count": null,
   "metadata": {},
   "outputs": [],
   "source": []
  }
 ],
 "metadata": {
  "kernelspec": {
   "display_name": "Python 3",
   "language": "python",
   "name": "python3"
  },
  "language_info": {
   "codemirror_mode": {
    "name": "ipython",
    "version": 3
   },
   "file_extension": ".py",
   "mimetype": "text/x-python",
   "name": "python",
   "nbconvert_exporter": "python",
   "pygments_lexer": "ipython3",
   "version": "3.7.1"
  }
 },
 "nbformat": 4,
 "nbformat_minor": 2
}
